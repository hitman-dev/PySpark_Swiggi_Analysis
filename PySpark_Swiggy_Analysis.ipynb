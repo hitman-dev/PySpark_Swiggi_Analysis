{
  "cells": [
    {
      "cell_type": "markdown",
      "source": [
        "## Connecting to Drive"
      ],
      "metadata": {
        "id": "ISZpvDCRhOZ3"
      },
      "id": "ISZpvDCRhOZ3"
    },
    {
      "cell_type": "code",
      "source": [
        "from google.colab import drive\n",
        "drive.mount('/content/drive')"
      ],
      "metadata": {
        "colab": {
          "base_uri": "https://localhost:8080/"
        },
        "id": "Tc9tNxwIHu09",
        "outputId": "7907d2db-b22b-44c3-f7dc-fdc88230a03e"
      },
      "execution_count": null,
      "outputs": [
        {
          "output_type": "stream",
          "name": "stdout",
          "text": [
            "Mounted at /content/drive\n"
          ]
        }
      ],
      "id": "Tc9tNxwIHu09"
    },
    {
      "cell_type": "markdown",
      "source": [
        "## Installing PySPARK in Colab"
      ],
      "metadata": {
        "id": "1jq29gsIgtCE"
      },
      "id": "1jq29gsIgtCE"
    },
    {
      "cell_type": "markdown",
      "source": [
        "[Pyspark version link](https://spark.apache.org/downloads.html)"
      ],
      "metadata": {
        "id": "d9KvGCebhV5y"
      },
      "id": "d9KvGCebhV5y"
    },
    {
      "cell_type": "code",
      "source": [
        "!apt-get install openjdk-8-jdk-headless -qq > /dev/null\n",
        "!wget -q https://dlcdn.apache.org/spark/spark-3.2.1/spark-3.2.1-bin-hadoop3.2.tgz\n",
        "!tar xf spark-3.2.1-bin-hadoop3.2.tgz\n",
        "!pip install -q findspark\n",
        "import os\n",
        "os.environ[\"JAVA_HOME\"] = \"/usr/lib/jvm/java-8-openjdk-amd64\"\n",
        "os.environ[\"SPARK_HOME\"] = \"/content/spark-3.2.1-bin-hadoop3.2\"\n",
        "import findspark\n",
        "findspark.init()"
      ],
      "metadata": {
        "id": "oWy3A20xVILU"
      },
      "execution_count": null,
      "outputs": [],
      "id": "oWy3A20xVILU"
    },
    {
      "cell_type": "code",
      "source": [
        "# # Second method to install PySPARK in  colab\n",
        "# !pip install pyspark py4j"
      ],
      "metadata": {
        "id": "HMV650hQhY3l"
      },
      "execution_count": null,
      "outputs": [],
      "id": "HMV650hQhY3l"
    },
    {
      "cell_type": "markdown",
      "source": [
        "## Initialize  PySPARK"
      ],
      "metadata": {
        "id": "EdDPelqWg1J7"
      },
      "id": "EdDPelqWg1J7"
    },
    {
      "cell_type": "code",
      "source": [
        "from pyspark.sql import SparkSession"
      ],
      "metadata": {
        "id": "NFyM0nDoWgn1"
      },
      "execution_count": null,
      "outputs": [],
      "id": "NFyM0nDoWgn1"
    },
    {
      "cell_type": "code",
      "source": [
        "spark = SparkSession.builder\\\n",
        "        .master(\"local\")\\\n",
        "        .appName(\"Colab\")\\\n",
        "        .config('spark.ui.port', '4050')\\\n",
        "        .getOrCreate()"
      ],
      "metadata": {
        "id": "uqo1aJk7WONu"
      },
      "execution_count": null,
      "outputs": [],
      "id": "uqo1aJk7WONu"
    },
    {
      "cell_type": "code",
      "source": [
        "spark"
      ],
      "metadata": {
        "colab": {
          "base_uri": "https://localhost:8080/",
          "height": 219
        },
        "id": "nNsn-ppMWm5L",
        "outputId": "7fa9a38d-dd8e-43fa-fa1b-61a01b4cb0ef"
      },
      "execution_count": null,
      "outputs": [
        {
          "output_type": "execute_result",
          "data": {
            "text/plain": [
              "<pyspark.sql.session.SparkSession at 0x7f9fc67181d0>"
            ],
            "text/html": [
              "\n",
              "            <div>\n",
              "                <p><b>SparkSession - in-memory</b></p>\n",
              "                \n",
              "        <div>\n",
              "            <p><b>SparkContext</b></p>\n",
              "\n",
              "            <p><a href=\"http://5da27d041667:4050\">Spark UI</a></p>\n",
              "\n",
              "            <dl>\n",
              "              <dt>Version</dt>\n",
              "                <dd><code>v3.2.1</code></dd>\n",
              "              <dt>Master</dt>\n",
              "                <dd><code>local</code></dd>\n",
              "              <dt>AppName</dt>\n",
              "                <dd><code>Colab</code></dd>\n",
              "            </dl>\n",
              "        </div>\n",
              "        \n",
              "            </div>\n",
              "        "
            ]
          },
          "metadata": {},
          "execution_count": 6
        }
      ],
      "id": "nNsn-ppMWm5L"
    },
    {
      "cell_type": "markdown",
      "source": [
        "## Get spark UI"
      ],
      "metadata": {
        "id": "EJm8rFs_W-pE"
      },
      "id": "EJm8rFs_W-pE"
    },
    {
      "cell_type": "code",
      "source": [
        "# !wget https://bin.equinox.io/c/4VmDzA7iaHb/ngrok-stable-linux-amd64.zip\n",
        "# !unzip ngrok-stable-linux-amd64.zip\n",
        "# get_ipython().system_raw('./ngrok http 4050 &')\n",
        "# !sleep 5\n",
        "# !curl -s http://localhost:4040/api/tunnels | grep -Po 'public_url\":\"(?=https)\\K[^\"]*'"
      ],
      "metadata": {
        "id": "V3vIonLYWm2a"
      },
      "execution_count": null,
      "outputs": [],
      "id": "V3vIonLYWm2a"
    },
    {
      "cell_type": "markdown",
      "source": [
        "## Loading and checking Data"
      ],
      "metadata": {
        "id": "w7xyZkYAhAov"
      },
      "id": "w7xyZkYAhAov"
    },
    {
      "cell_type": "code",
      "source": [
        "Swiggy_DF = spark.read.csv(\"/content/drive/MyDrive/Swiggy/Swiggy_Analysis_Source_File.csv\", header=True, inferSchema=True)"
      ],
      "metadata": {
        "id": "vnmo9J7tWmzg"
      },
      "execution_count": null,
      "outputs": [],
      "id": "vnmo9J7tWmzg"
    },
    {
      "cell_type": "code",
      "source": [
        "Swiggy_DF.printSchema()"
      ],
      "metadata": {
        "colab": {
          "base_uri": "https://localhost:8080/"
        },
        "id": "adVxE64zWmww",
        "outputId": "1658342b-7ad0-4296-ada1-5d86965058a3"
      },
      "execution_count": null,
      "outputs": [
        {
          "output_type": "stream",
          "name": "stdout",
          "text": [
            "root\n",
            " |-- Restaurant Name: string (nullable = true)\n",
            " |-- City: string (nullable = true)\n",
            " |-- Locality: string (nullable = true)\n",
            " |-- Cuisines: string (nullable = true)\n",
            " |-- Average Cost for two: integer (nullable = true)\n",
            " |-- Has Table booking: string (nullable = true)\n",
            " |-- Has Online delivery: string (nullable = true)\n",
            " |--  Rating Stars out of 5: double (nullable = true)\n",
            " |-- Rating in text: string (nullable = true)\n",
            " |-- Price range: integer (nullable = true)\n",
            " |-- Votes: integer (nullable = true)\n",
            "\n"
          ]
        }
      ],
      "id": "adVxE64zWmww"
    },
    {
      "cell_type": "code",
      "source": [
        "Swiggy_DF.show(5)"
      ],
      "metadata": {
        "colab": {
          "base_uri": "https://localhost:8080/"
        },
        "id": "pWxU-xNKWmuH",
        "outputId": "aa8264c7-1ca1-443b-8f24-7bf015d6d7b1"
      },
      "execution_count": null,
      "outputs": [
        {
          "output_type": "stream",
          "name": "stdout",
          "text": [
            "+--------------------+---------+--------------------+-------------+--------------------+-----------------+-------------------+----------------------+--------------+-----------+-----+\n",
            "|     Restaurant Name|     City|            Locality|     Cuisines|Average Cost for two|Has Table booking|Has Online delivery| Rating Stars out of 5|Rating in text|Price range|Votes|\n",
            "+--------------------+---------+--------------------+-------------+--------------------+-----------------+-------------------+----------------------+--------------+-----------+-----+\n",
            "|    Sultans of Spice|Bangalore|BluPetal Hotel, K...| North Indian|                1300|              Yes|                Yes|                   4.1|     Very Good|          3|  314|\n",
            "|The Fatty Bao - A...|Bangalore|         Indiranagar|        Asian|                2400|              Yes|                Yes|                   4.7|     Excellent|          4|  591|\n",
            "|                Toit|Bangalore|         Indiranagar|      Italian|                2000|               No|                 No|                   4.8|     Excellent|          4|  270|\n",
            "| Three Dots & A Dash|Bangalore|         Indiranagar|     European|                1300|              Yes|                 No|                   3.9|          Good|          3|  365|\n",
            "|    Bombay Brasserie|Bangalore|         Indiranagar|Modern Indian|                1500|               No|                Yes|                   4.2|     Very Good|          3|  229|\n",
            "+--------------------+---------+--------------------+-------------+--------------------+-----------------+-------------------+----------------------+--------------+-----------+-----+\n",
            "only showing top 5 rows\n",
            "\n"
          ]
        }
      ],
      "id": "pWxU-xNKWmuH"
    },
    {
      "cell_type": "code",
      "source": [
        "#Replace the white Spaces with UnderScrol\n",
        "columns=Swiggy_DF.columns\n",
        "converter=lambda x:x.replace(' ','_')\n",
        "columns=list(map(converter,columns))"
      ],
      "metadata": {
        "id": "FhVjCtrD2ug8"
      },
      "id": "FhVjCtrD2ug8",
      "execution_count": null,
      "outputs": []
    },
    {
      "cell_type": "code",
      "source": [
        "Swiggy_DF=Swiggy_DF.toDF(*columns)"
      ],
      "metadata": {
        "id": "mwhKBnF329PV"
      },
      "id": "mwhKBnF329PV",
      "execution_count": null,
      "outputs": []
    },
    {
      "cell_type": "code",
      "source": [
        "Swiggy_DF.show(5)"
      ],
      "metadata": {
        "colab": {
          "base_uri": "https://localhost:8080/"
        },
        "id": "I9SgHIJJ22gr",
        "outputId": "68744c6e-0a7c-41b6-961e-c9161098230c"
      },
      "id": "I9SgHIJJ22gr",
      "execution_count": null,
      "outputs": [
        {
          "output_type": "stream",
          "name": "stdout",
          "text": [
            "+--------------------+---------+--------------------+-------------+--------------------+-----------------+-------------------+----------------------+--------------+-----------+-----+\n",
            "|     Restaurant_Name|     City|            Locality|     Cuisines|Average_Cost_for_two|Has_Table_booking|Has_Online_delivery|_Rating_Stars_out_of_5|Rating_in_text|Price_range|Votes|\n",
            "+--------------------+---------+--------------------+-------------+--------------------+-----------------+-------------------+----------------------+--------------+-----------+-----+\n",
            "|    Sultans of Spice|Bangalore|BluPetal Hotel, K...| North Indian|                1300|              Yes|                Yes|                   4.1|     Very Good|          3|  314|\n",
            "|The Fatty Bao - A...|Bangalore|         Indiranagar|        Asian|                2400|              Yes|                Yes|                   4.7|     Excellent|          4|  591|\n",
            "|                Toit|Bangalore|         Indiranagar|      Italian|                2000|               No|                 No|                   4.8|     Excellent|          4|  270|\n",
            "| Three Dots & A Dash|Bangalore|         Indiranagar|     European|                1300|              Yes|                 No|                   3.9|          Good|          3|  365|\n",
            "|    Bombay Brasserie|Bangalore|         Indiranagar|Modern Indian|                1500|               No|                Yes|                   4.2|     Very Good|          3|  229|\n",
            "+--------------------+---------+--------------------+-------------+--------------------+-----------------+-------------------+----------------------+--------------+-----------+-----+\n",
            "only showing top 5 rows\n",
            "\n"
          ]
        }
      ]
    },
    {
      "cell_type": "code",
      "source": [
        "Swiggy_DF.count()"
      ],
      "metadata": {
        "colab": {
          "base_uri": "https://localhost:8080/"
        },
        "id": "7U7rAYkoWmrh",
        "outputId": "69b7a04c-c857-4328-ca56-f9a9dd802449"
      },
      "execution_count": null,
      "outputs": [
        {
          "output_type": "execute_result",
          "data": {
            "text/plain": [
              "258"
            ]
          },
          "metadata": {},
          "execution_count": 15
        }
      ],
      "id": "7U7rAYkoWmrh"
    },
    {
      "cell_type": "markdown",
      "id": "592a4488",
      "metadata": {
        "id": "592a4488"
      },
      "source": [
        "## Populating Dimension Tables"
      ]
    },
    {
      "cell_type": "markdown",
      "id": "fde6dfaf",
      "metadata": {
        "id": "fde6dfaf"
      },
      "source": [
        "#### 1) City_Dim"
      ]
    },
    {
      "cell_type": "code",
      "execution_count": null,
      "id": "4681f9f6",
      "metadata": {
        "id": "4681f9f6"
      },
      "outputs": [],
      "source": [
        "from pyspark.sql.window import Window\n",
        "from pyspark.sql.functions import row_number,col"
      ]
    },
    {
      "cell_type": "code",
      "execution_count": null,
      "id": "3997e0f5",
      "metadata": {
        "id": "3997e0f5"
      },
      "outputs": [],
      "source": [
        "City_df=Swiggy_DF.select('City').distinct()"
      ]
    },
    {
      "cell_type": "code",
      "execution_count": null,
      "id": "9a62a30e",
      "metadata": {
        "id": "9a62a30e",
        "outputId": "9db636a9-195b-4b82-a3ca-0e42e2cd87c5",
        "colab": {
          "base_uri": "https://localhost:8080/"
        }
      },
      "outputs": [
        {
          "output_type": "stream",
          "name": "stdout",
          "text": [
            "+----------+\n",
            "|      City|\n",
            "+----------+\n",
            "| Bangalore|\n",
            "|     Patna|\n",
            "|   Chennai|\n",
            "|   Lucknow|\n",
            "|    Mumbai|\n",
            "|       Goa|\n",
            "|   Kolkata|\n",
            "|     Surat|\n",
            "|      Pune|\n",
            "|Chandigarh|\n",
            "| Hyderabad|\n",
            "|  Guwahati|\n",
            "|    Jaipur|\n",
            "+----------+\n",
            "\n"
          ]
        }
      ],
      "source": [
        "City_df.show()"
      ]
    },
    {
      "cell_type": "code",
      "execution_count": null,
      "id": "c1dfc552",
      "metadata": {
        "id": "c1dfc552"
      },
      "outputs": [],
      "source": [
        "wind=Window.orderBy(City_df['City'].asc())"
      ]
    },
    {
      "cell_type": "code",
      "execution_count": null,
      "id": "863b8dd3",
      "metadata": {
        "id": "863b8dd3"
      },
      "outputs": [],
      "source": [
        "city_dm_Table=City_df.withColumn('City_Id',row_number().over(wind))"
      ]
    },
    {
      "cell_type": "code",
      "execution_count": null,
      "id": "e85b0082",
      "metadata": {
        "id": "e85b0082",
        "outputId": "386ec584-1ca7-4759-e536-c23aefbe75ab",
        "colab": {
          "base_uri": "https://localhost:8080/"
        }
      },
      "outputs": [
        {
          "output_type": "stream",
          "name": "stdout",
          "text": [
            "root\n",
            " |-- City: string (nullable = true)\n",
            " |-- City_Id: integer (nullable = false)\n",
            "\n"
          ]
        }
      ],
      "source": [
        "city_dm_Table.printSchema()"
      ]
    },
    {
      "cell_type": "code",
      "execution_count": null,
      "id": "333daf5c",
      "metadata": {
        "scrolled": true,
        "id": "333daf5c",
        "outputId": "7eb3cfea-376a-4824-fd35-2054a42168a4",
        "colab": {
          "base_uri": "https://localhost:8080/"
        }
      },
      "outputs": [
        {
          "output_type": "stream",
          "name": "stdout",
          "text": [
            "+----------+-------+\n",
            "|      City|City_Id|\n",
            "+----------+-------+\n",
            "| Bangalore|      1|\n",
            "|Chandigarh|      2|\n",
            "|   Chennai|      3|\n",
            "|       Goa|      4|\n",
            "|  Guwahati|      5|\n",
            "| Hyderabad|      6|\n",
            "|    Jaipur|      7|\n",
            "|   Kolkata|      8|\n",
            "|   Lucknow|      9|\n",
            "|    Mumbai|     10|\n",
            "|     Patna|     11|\n",
            "|      Pune|     12|\n",
            "|     Surat|     13|\n",
            "+----------+-------+\n",
            "\n"
          ]
        }
      ],
      "source": [
        "city_dm_Table.show()"
      ]
    },
    {
      "cell_type": "code",
      "execution_count": null,
      "id": "03520c50",
      "metadata": {
        "id": "03520c50"
      },
      "outputs": [],
      "source": [
        "city_dm_Table.write.options(header='True', delimiter=',').csv(r\"C:\\Users\\rohit\\Desktop\\swiggy\\city_dm_Table_report\")"
      ]
    },
    {
      "cell_type": "markdown",
      "id": "78efdd3a",
      "metadata": {
        "id": "78efdd3a"
      },
      "source": [
        "#### 2) Restaurant Dimension Table"
      ]
    },
    {
      "cell_type": "code",
      "execution_count": null,
      "id": "1d39fec0",
      "metadata": {
        "id": "1d39fec0"
      },
      "outputs": [],
      "source": [
        "rest_col=Swiggy_DF.select('Restaurant_Name').distinct()"
      ]
    },
    {
      "cell_type": "code",
      "execution_count": null,
      "id": "b06b3d39",
      "metadata": {
        "id": "b06b3d39",
        "outputId": "9b724b96-fd8f-401f-b608-4e5b23de4627",
        "colab": {
          "base_uri": "https://localhost:8080/"
        }
      },
      "outputs": [
        {
          "output_type": "stream",
          "name": "stdout",
          "text": [
            "+--------------------+\n",
            "|     Restaurant_Name|\n",
            "+--------------------+\n",
            "|            Chung Fa|\n",
            "|             Bar Bar|\n",
            "|Zolocrust - Hotel...|\n",
            "|            Paradise|\n",
            "|        Olive Bistro|\n",
            "|            Flechazo|\n",
            "|   The Night Factory|\n",
            "|      Frozen Factory|\n",
            "|    Sauticed Stories|\n",
            "|        Uncle Jack's|\n",
            "|               BarBQ|\n",
            "|        The Food Lab|\n",
            "|          Eat Street|\n",
            "|           4 Seasons|\n",
            "|     Taruveda Bistro|\n",
            "|         Free Spirit|\n",
            "|            Nawwarah|\n",
            "|       Pind Balluchi|\n",
            "|           Raj Rasoi|\n",
            "| Three Dots & A Dash|\n",
            "+--------------------+\n",
            "only showing top 20 rows\n",
            "\n"
          ]
        }
      ],
      "source": [
        "rest_col.show()"
      ]
    },
    {
      "cell_type": "code",
      "execution_count": null,
      "id": "818015b3",
      "metadata": {
        "id": "818015b3"
      },
      "outputs": [],
      "source": [
        "wind=Window.orderBy(rest_col['Restaurant_Name'].asc())"
      ]
    },
    {
      "cell_type": "code",
      "execution_count": null,
      "id": "8e4cd577",
      "metadata": {
        "id": "8e4cd577"
      },
      "outputs": [],
      "source": [
        "restaurant_Dim_Table=rest_col.withColumn('Restaurant_Id',row_number().over(wind))"
      ]
    },
    {
      "cell_type": "code",
      "execution_count": null,
      "id": "0313b928",
      "metadata": {
        "id": "0313b928",
        "outputId": "c4136f70-e80c-494b-eb1b-16125e06a244",
        "colab": {
          "base_uri": "https://localhost:8080/"
        }
      },
      "outputs": [
        {
          "output_type": "stream",
          "name": "stdout",
          "text": [
            "+--------------------+-------------+\n",
            "|     Restaurant_Name|Restaurant_Id|\n",
            "+--------------------+-------------+\n",
            "|11th Avenue Cafe ...|            1|\n",
            "|      145 Kala Ghoda|            2|\n",
            "|          17 Degrees|            3|\n",
            "|18 Degrees Resto ...|            4|\n",
            "|      38 Degree East|            5|\n",
            "|           4 Seasons|            6|\n",
            "|  6 Ballygunge Place|            7|\n",
            "|AB's - Absolute B...|            8|\n",
            "|    Agent Jack's Bar|            9|\n",
            "|            Angeethi|           10|\n",
            "|             Antares|           11|\n",
            "|              Apache|           12|\n",
            "|Asia Kitchen by M...|           13|\n",
            "|        Baba Au Rhum|           14|\n",
            "|         Bansi Vihar|           15|\n",
            "|             Bar Bar|           16|\n",
            "|               BarBQ|           17|\n",
            "|     Barbeque Nation|           18|\n",
            "|      Barbeque Ville|           19|\n",
            "|  Basil With A Twist|           20|\n",
            "+--------------------+-------------+\n",
            "only showing top 20 rows\n",
            "\n"
          ]
        }
      ],
      "source": [
        "restaurant_Dim_Table.show()"
      ]
    },
    {
      "cell_type": "code",
      "execution_count": null,
      "id": "5311bb6f",
      "metadata": {
        "id": "5311bb6f",
        "outputId": "e863b598-fdcb-4609-8544-7118576f1240",
        "colab": {
          "base_uri": "https://localhost:8080/"
        }
      },
      "outputs": [
        {
          "output_type": "execute_result",
          "data": {
            "text/plain": [
              "226"
            ]
          },
          "metadata": {},
          "execution_count": 37
        }
      ],
      "source": [
        "restaurant_Dim_Table.count()"
      ]
    },
    {
      "cell_type": "code",
      "execution_count": null,
      "id": "7146478d",
      "metadata": {
        "id": "7146478d"
      },
      "outputs": [],
      "source": [
        "restaurant_Dim_Table.write.options(header='True', delimiter=',').csv(r\"C:\\Users\\rohit\\Desktop\\swiggy\\ restaurant_dm_table_report\")"
      ]
    },
    {
      "cell_type": "markdown",
      "id": "2cd4da0d",
      "metadata": {
        "id": "2cd4da0d"
      },
      "source": [
        "#### 3) Locality Dimension Table"
      ]
    },
    {
      "cell_type": "code",
      "execution_count": null,
      "id": "dd88a3f4",
      "metadata": {
        "id": "dd88a3f4"
      },
      "outputs": [],
      "source": [
        "local_col=Swiggy_DF.select('Locality').distinct()"
      ]
    },
    {
      "cell_type": "code",
      "execution_count": null,
      "id": "c5984977",
      "metadata": {
        "id": "c5984977",
        "outputId": "251f92ed-5563-4456-806a-6ed467946924",
        "colab": {
          "base_uri": "https://localhost:8080/"
        }
      },
      "outputs": [
        {
          "output_type": "execute_result",
          "data": {
            "text/plain": [
              "137"
            ]
          },
          "metadata": {},
          "execution_count": 40
        }
      ],
      "source": [
        "local_col.count()"
      ]
    },
    {
      "cell_type": "code",
      "execution_count": null,
      "id": "ae83062e",
      "metadata": {
        "id": "ae83062e"
      },
      "outputs": [],
      "source": [
        "wins=Window.orderBy(local_col['Locality'].asc())"
      ]
    },
    {
      "cell_type": "code",
      "execution_count": null,
      "id": "3aac5cc0",
      "metadata": {
        "id": "3aac5cc0"
      },
      "outputs": [],
      "source": [
        "locality_dm_table=local_col.withColumn('Locality_Id',row_number().over(wins))"
      ]
    },
    {
      "cell_type": "code",
      "execution_count": null,
      "id": "a19bb23a",
      "metadata": {
        "scrolled": true,
        "id": "a19bb23a",
        "outputId": "c09be26f-192a-4520-a081-e0e41098a5f9",
        "colab": {
          "base_uri": "https://localhost:8080/"
        }
      },
      "outputs": [
        {
          "output_type": "stream",
          "name": "stdout",
          "text": [
            "+--------------------+-----------+\n",
            "|            Locality|Locality_Id|\n",
            "+--------------------+-----------+\n",
            "|12th Square Build...|          1|\n",
            "|Acropolis Mall, K...|          2|\n",
            "|          Adajan Gam|          3|\n",
            "|               Adyar|          4|\n",
            "|            Aminabad|          5|\n",
            "|           Anandpuri|          6|\n",
            "|Anil Plaza, Chris...|          7|\n",
            "|              Anjuna|          8|\n",
            "|Anjuna Beach, Anjuna|          9|\n",
            "|     Anna Nagar East|         10|\n",
            "|             Arambol|         11|\n",
            "|         Ashok Nagar|         12|\n",
            "|               Athwa|         13|\n",
            "|          Azad Nagar|         14|\n",
            "|                Baga|         15|\n",
            "|Balewadi High Str...|         16|\n",
            "|          Ballygunge|         17|\n",
            "|               Baner|         18|\n",
            "|       Banjara Hills|         19|\n",
            "|          Betalbatim|         20|\n",
            "+--------------------+-----------+\n",
            "only showing top 20 rows\n",
            "\n"
          ]
        }
      ],
      "source": [
        "locality_dm_table.show()"
      ]
    },
    {
      "cell_type": "code",
      "execution_count": null,
      "id": "83ead939",
      "metadata": {
        "id": "83ead939",
        "outputId": "a3c2e84c-d868-4eae-ae46-6cd204daa602",
        "colab": {
          "base_uri": "https://localhost:8080/"
        }
      },
      "outputs": [
        {
          "output_type": "execute_result",
          "data": {
            "text/plain": [
              "137"
            ]
          },
          "metadata": {},
          "execution_count": 44
        }
      ],
      "source": [
        "locality_dm_table.count()"
      ]
    },
    {
      "cell_type": "code",
      "execution_count": null,
      "id": "86a0ddf8",
      "metadata": {
        "id": "86a0ddf8"
      },
      "outputs": [],
      "source": [
        "locality_dm_table.write.options(header='True', delimiter=',').csv(r\"C:\\Users\\rohit\\Desktop\\swiggy\\locality_dm_table_report\")"
      ]
    },
    {
      "cell_type": "markdown",
      "id": "ec35abfa",
      "metadata": {
        "id": "ec35abfa"
      },
      "source": [
        "#### 4) Cuisines dimension Table"
      ]
    },
    {
      "cell_type": "code",
      "execution_count": null,
      "id": "f635c73a",
      "metadata": {
        "id": "f635c73a",
        "outputId": "50f28d6a-b057-4ebc-9038-21f40f327312",
        "colab": {
          "base_uri": "https://localhost:8080/"
        }
      },
      "outputs": [
        {
          "output_type": "stream",
          "name": "stdout",
          "text": [
            "root\n",
            " |-- Restaurant_Name: string (nullable = true)\n",
            " |-- City: string (nullable = true)\n",
            " |-- Locality: string (nullable = true)\n",
            " |-- Cuisines: string (nullable = true)\n",
            " |-- Average_Cost_for_two: integer (nullable = true)\n",
            " |-- Has_Table_booking: string (nullable = true)\n",
            " |-- Has_Online_delivery: string (nullable = true)\n",
            " |-- _Rating_Stars_out_of_5: double (nullable = true)\n",
            " |-- Rating_in_text: string (nullable = true)\n",
            " |-- Price_range: integer (nullable = true)\n",
            " |-- Votes: integer (nullable = true)\n",
            "\n"
          ]
        }
      ],
      "source": [
        "Swiggy_DF.printSchema()"
      ]
    },
    {
      "cell_type": "code",
      "execution_count": null,
      "id": "aaeee846",
      "metadata": {
        "id": "aaeee846"
      },
      "outputs": [],
      "source": [
        "Cousine_col=Swiggy_DF.select('Cuisines').distinct()"
      ]
    },
    {
      "cell_type": "code",
      "execution_count": null,
      "id": "17152f46",
      "metadata": {
        "id": "17152f46",
        "outputId": "52c68e3d-1da5-474f-dcc9-19d8bcb4e7ec",
        "colab": {
          "base_uri": "https://localhost:8080/"
        }
      },
      "outputs": [
        {
          "output_type": "stream",
          "name": "stdout",
          "text": [
            "+--------------+\n",
            "|      Cuisines|\n",
            "+--------------+\n",
            "|       Mexican|\n",
            "|        Bakery|\n",
            "|      European|\n",
            "|Charcoal Grill|\n",
            "|       Biryani|\n",
            "|       Chinese|\n",
            "|   Continental|\n",
            "|       Mughlai|\n",
            "|      Gujarati|\n",
            "|    Hyderabadi|\n",
            "|      Japanese|\n",
            "|     Fast Food|\n",
            "|          Goan|\n",
            "|       Italian|\n",
            "|      Lebanese|\n",
            "| Modern Indian|\n",
            "|       Bengali|\n",
            "|  North Indian|\n",
            "|      Desserts|\n",
            "|  Healthy Food|\n",
            "+--------------+\n",
            "only showing top 20 rows\n",
            "\n"
          ]
        }
      ],
      "source": [
        "Cousine_col.show() "
      ]
    },
    {
      "cell_type": "code",
      "execution_count": null,
      "id": "de347d7b",
      "metadata": {
        "id": "de347d7b"
      },
      "outputs": [],
      "source": [
        "wind=Window.orderBy(Cousine_col['Cuisines'].asc())\n",
        "Cuisines_dm_table=Cousine_col.withColumn('Cuisines_id',row_number().over(wind))"
      ]
    },
    {
      "cell_type": "code",
      "execution_count": null,
      "id": "70416fb9",
      "metadata": {
        "id": "70416fb9",
        "outputId": "88f2a4e6-36e6-42c4-84cd-d5e40067f75f",
        "colab": {
          "base_uri": "https://localhost:8080/"
        }
      },
      "outputs": [
        {
          "output_type": "stream",
          "name": "stdout",
          "text": [
            "+--------------+-----------+\n",
            "|      Cuisines|Cuisines_id|\n",
            "+--------------+-----------+\n",
            "|      American|          1|\n",
            "|         Asian|          2|\n",
            "|        Bakery|          3|\n",
            "|       Bengali|          4|\n",
            "|       Biryani|          5|\n",
            "|          Cafe|          6|\n",
            "|Charcoal Grill|          7|\n",
            "|       Chinese|          8|\n",
            "|   Continental|          9|\n",
            "|      Desserts|         10|\n",
            "|      European|         11|\n",
            "|     Fast Food|         12|\n",
            "|          Goan|         13|\n",
            "|      Gujarati|         14|\n",
            "|  Healthy Food|         15|\n",
            "|    Hyderabadi|         16|\n",
            "|       Italian|         17|\n",
            "|      Japanese|         18|\n",
            "|      Lebanese|         19|\n",
            "| Mediterranean|         20|\n",
            "+--------------+-----------+\n",
            "only showing top 20 rows\n",
            "\n"
          ]
        }
      ],
      "source": [
        "Cuisines_dm_table.show()"
      ]
    },
    {
      "cell_type": "code",
      "execution_count": null,
      "id": "42099c75",
      "metadata": {
        "scrolled": true,
        "id": "42099c75",
        "outputId": "bfb1d6c0-50b8-4205-fea0-ebc59cbe0cce",
        "colab": {
          "base_uri": "https://localhost:8080/"
        }
      },
      "outputs": [
        {
          "output_type": "execute_result",
          "data": {
            "text/plain": [
              "28"
            ]
          },
          "metadata": {},
          "execution_count": 51
        }
      ],
      "source": [
        "Cuisines_dm_table.count()"
      ]
    },
    {
      "cell_type": "code",
      "execution_count": null,
      "id": "571f09e4",
      "metadata": {
        "id": "571f09e4"
      },
      "outputs": [],
      "source": [
        "Cuisines_dm_table.write.options(header='True', delimiter=',').csv(r\"C:\\Users\\rohit\\Desktop\\swiggy\\Cuisines_dm_table_report\")"
      ]
    },
    {
      "cell_type": "markdown",
      "id": "5fe66d0c",
      "metadata": {
        "id": "5fe66d0c"
      },
      "source": [
        "#### 5) Table Booking Dimension Table"
      ]
    },
    {
      "cell_type": "code",
      "execution_count": null,
      "id": "a55f9163",
      "metadata": {
        "id": "a55f9163",
        "outputId": "5f5d2f1b-b8db-4575-d471-b90f2dfc3af3",
        "colab": {
          "base_uri": "https://localhost:8080/"
        }
      },
      "outputs": [
        {
          "output_type": "stream",
          "name": "stdout",
          "text": [
            "+-----------------+\n",
            "|Has_Table_booking|\n",
            "+-----------------+\n",
            "|               No|\n",
            "|              Yes|\n",
            "+-----------------+\n",
            "\n"
          ]
        }
      ],
      "source": [
        "TableBooking_col=Swiggy_DF.select('Has_Table_booking').distinct()\n",
        "TableBooking_col.show() "
      ]
    },
    {
      "cell_type": "code",
      "execution_count": null,
      "id": "99b8b1a8",
      "metadata": {
        "id": "99b8b1a8"
      },
      "outputs": [],
      "source": [
        "wind=Window.orderBy(TableBooking_col['Has_Table_booking'].desc())\n",
        "TableBooking_dm_table=TableBooking_col.withColumn('Table_booking_Id',row_number().over(wind))"
      ]
    },
    {
      "cell_type": "code",
      "execution_count": null,
      "id": "cd52170a",
      "metadata": {
        "scrolled": false,
        "id": "cd52170a",
        "outputId": "ea44091b-9c76-43f4-ec89-d9199df4240b",
        "colab": {
          "base_uri": "https://localhost:8080/"
        }
      },
      "outputs": [
        {
          "output_type": "stream",
          "name": "stdout",
          "text": [
            "+-----------------+----------------+\n",
            "|Has_Table_booking|Table_booking_Id|\n",
            "+-----------------+----------------+\n",
            "|              Yes|               1|\n",
            "|               No|               2|\n",
            "+-----------------+----------------+\n",
            "\n"
          ]
        }
      ],
      "source": [
        "TableBooking_dm_table.show()"
      ]
    },
    {
      "cell_type": "code",
      "execution_count": null,
      "id": "722d3ccd",
      "metadata": {
        "id": "722d3ccd",
        "outputId": "b822db03-c0d2-418b-b096-4b13dd8b2f0a",
        "colab": {
          "base_uri": "https://localhost:8080/"
        }
      },
      "outputs": [
        {
          "output_type": "execute_result",
          "data": {
            "text/plain": [
              "2"
            ]
          },
          "metadata": {},
          "execution_count": 55
        }
      ],
      "source": [
        "TableBooking_dm_table.count()"
      ]
    },
    {
      "cell_type": "code",
      "execution_count": null,
      "id": "23a6850f",
      "metadata": {
        "id": "23a6850f"
      },
      "outputs": [],
      "source": [
        "TableBooking_dm_table.write.options(header='True', delimiter=',').csv(r\"C:\\Users\\rohit\\Desktop\\swiggy\\ TableBooking_dm_table_report\")"
      ]
    },
    {
      "cell_type": "markdown",
      "id": "2b4c7d22",
      "metadata": {
        "id": "2b4c7d22"
      },
      "source": [
        "#### 6) Delivery_Available_Dm_Table"
      ]
    },
    {
      "cell_type": "code",
      "execution_count": null,
      "id": "6fffdd79",
      "metadata": {
        "id": "6fffdd79",
        "outputId": "f3377ffb-97c6-4892-ae6e-9bcf74964d83",
        "colab": {
          "base_uri": "https://localhost:8080/"
        }
      },
      "outputs": [
        {
          "output_type": "stream",
          "name": "stdout",
          "text": [
            "+-------------------+\n",
            "|Has_Online_delivery|\n",
            "+-------------------+\n",
            "|                 No|\n",
            "|                Yes|\n",
            "+-------------------+\n",
            "\n"
          ]
        }
      ],
      "source": [
        "Delivery_Available_col=Swiggy_DF.select('Has_Online_delivery').distinct()\n",
        "Delivery_Available_col.show() "
      ]
    },
    {
      "cell_type": "code",
      "execution_count": null,
      "id": "e6838b4f",
      "metadata": {
        "id": "e6838b4f"
      },
      "outputs": [],
      "source": [
        "wind=Window.orderBy(Delivery_Available_col['Has_Online_delivery'].desc())\n",
        "Delivery_Available_dm_table=Delivery_Available_col.withColumn('Delivery_ID',row_number().over(wind))"
      ]
    },
    {
      "cell_type": "code",
      "execution_count": null,
      "id": "432022cf",
      "metadata": {
        "scrolled": true,
        "id": "432022cf",
        "outputId": "b2cb5a0f-6738-4118-c732-82d5cd862880",
        "colab": {
          "base_uri": "https://localhost:8080/"
        }
      },
      "outputs": [
        {
          "output_type": "stream",
          "name": "stdout",
          "text": [
            "+-------------------+-----------+\n",
            "|Has_Online_delivery|Delivery_ID|\n",
            "+-------------------+-----------+\n",
            "|                Yes|          1|\n",
            "|                 No|          2|\n",
            "+-------------------+-----------+\n",
            "\n"
          ]
        }
      ],
      "source": [
        "Delivery_Available_dm_table.show()"
      ]
    },
    {
      "cell_type": "code",
      "execution_count": null,
      "id": "70fc2dcb",
      "metadata": {
        "id": "70fc2dcb"
      },
      "outputs": [],
      "source": [
        "Delivery_Available_dm_table.write.options(header='True', delimiter=',').csv(r\"C:\\Users\\rohit\\Desktop\\swiggy\\Delivery_Available_dm_table_report\")"
      ]
    },
    {
      "cell_type": "markdown",
      "id": "369b69c8",
      "metadata": {
        "id": "369b69c8"
      },
      "source": [
        "#### 7) Rating Dimension Table"
      ]
    },
    {
      "cell_type": "code",
      "execution_count": null,
      "id": "e441ba24",
      "metadata": {
        "id": "e441ba24",
        "outputId": "8e849ba6-2ed6-44ca-b95d-c637111c3d5f",
        "colab": {
          "base_uri": "https://localhost:8080/"
        }
      },
      "outputs": [
        {
          "output_type": "stream",
          "name": "stdout",
          "text": [
            "+----------------------+--------------+\n",
            "|_Rating_Stars_out_of_5|Rating_in_text|\n",
            "+----------------------+--------------+\n",
            "|                   4.6|     Excellent|\n",
            "|                   4.8|     Excellent|\n",
            "|                   3.8|          Good|\n",
            "|                   4.4|     Very Good|\n",
            "|                   2.6|       Average|\n",
            "|                   4.9|     Excellent|\n",
            "|                   3.3|       Average|\n",
            "|                   4.5|     Excellent|\n",
            "|                   3.1|       Average|\n",
            "|                   4.0|     Very Good|\n",
            "|                   4.3|     Very Good|\n",
            "|                   3.5|          Good|\n",
            "|                   3.9|          Good|\n",
            "|                   3.6|          Good|\n",
            "|                   3.4|       Average|\n",
            "|                   4.1|     Very Good|\n",
            "|                   3.7|          Good|\n",
            "|                   4.7|     Excellent|\n",
            "|                   4.2|     Very Good|\n",
            "+----------------------+--------------+\n",
            "\n"
          ]
        }
      ],
      "source": [
        "Rating_col=Swiggy_DF.select('_Rating_Stars_out_of_5','Rating_in_text').distinct()\n",
        "Rating_col.show() "
      ]
    },
    {
      "cell_type": "code",
      "execution_count": null,
      "id": "f67c8f55",
      "metadata": {
        "id": "f67c8f55"
      },
      "outputs": [],
      "source": [
        "wip=Window.orderBy(Rating_col['Rating_in_text'].asc())"
      ]
    },
    {
      "cell_type": "code",
      "execution_count": null,
      "id": "7b0f3c63",
      "metadata": {
        "id": "7b0f3c63"
      },
      "outputs": [],
      "source": [
        "Rating_dm_table=Rating_col.withColumn('Rating_id',row_number().over(wip))"
      ]
    },
    {
      "cell_type": "code",
      "execution_count": null,
      "id": "c7b6714a",
      "metadata": {
        "scrolled": true,
        "id": "c7b6714a",
        "outputId": "a1536780-23b2-4448-c528-39e8b3e596a1",
        "colab": {
          "base_uri": "https://localhost:8080/"
        }
      },
      "outputs": [
        {
          "output_type": "stream",
          "name": "stdout",
          "text": [
            "+----------------------+--------------+---------+\n",
            "|_Rating_Stars_out_of_5|Rating_in_text|Rating_id|\n",
            "+----------------------+--------------+---------+\n",
            "|                   2.6|       Average|        1|\n",
            "|                   3.3|       Average|        2|\n",
            "|                   3.1|       Average|        3|\n",
            "|                   3.4|       Average|        4|\n",
            "|                   4.6|     Excellent|        5|\n",
            "|                   4.8|     Excellent|        6|\n",
            "|                   4.9|     Excellent|        7|\n",
            "|                   4.5|     Excellent|        8|\n",
            "|                   4.7|     Excellent|        9|\n",
            "|                   3.8|          Good|       10|\n",
            "|                   3.5|          Good|       11|\n",
            "|                   3.9|          Good|       12|\n",
            "|                   3.6|          Good|       13|\n",
            "|                   3.7|          Good|       14|\n",
            "|                   4.4|     Very Good|       15|\n",
            "|                   4.0|     Very Good|       16|\n",
            "|                   4.3|     Very Good|       17|\n",
            "|                   4.1|     Very Good|       18|\n",
            "|                   4.2|     Very Good|       19|\n",
            "+----------------------+--------------+---------+\n",
            "\n"
          ]
        }
      ],
      "source": [
        "Rating_dm_table.show()"
      ]
    },
    {
      "cell_type": "code",
      "execution_count": null,
      "id": "cb0d21e9",
      "metadata": {
        "id": "cb0d21e9"
      },
      "outputs": [],
      "source": [
        "Rating_dm_table.write.options(header='True', delimiter=',').csv(r\"C:\\Users\\rohit\\Desktop\\swiggy\\Rating_dm_table_report\")"
      ]
    },
    {
      "cell_type": "markdown",
      "source": [
        "## Fact table\n"
      ],
      "metadata": {
        "id": "Ji-GrChkSW0Z"
      },
      "id": "Ji-GrChkSW0Z"
    },
    {
      "cell_type": "code",
      "source": [
        "joined_Swiggy_DF=Swiggy_DF.join(city_dm_Table, ['City'])\n",
        "joined_Swiggy_DF=joined_Swiggy_DF.join(restaurant_Dim_Table, ['Restaurant_Name'])\n",
        "joined_Swiggy_DF=joined_Swiggy_DF.join(locality_dm_table, ['Locality'])\n",
        "joined_Swiggy_DF=joined_Swiggy_DF.join(Cuisines_dm_table, ['Cuisines'])\n",
        "joined_Swiggy_DF=joined_Swiggy_DF.join(TableBooking_dm_table, ['Has_Table_booking'])\n",
        "joined_Swiggy_DF=joined_Swiggy_DF.join(Delivery_Available_dm_table, ['Has_Online_delivery'])\n",
        "joined_Swiggy_DF=joined_Swiggy_DF.join(Rating_dm_table, ['_Rating_Stars_out_of_5'])\n",
        "joined_Swiggy_DF.show()"
      ],
      "metadata": {
        "colab": {
          "base_uri": "https://localhost:8080/"
        },
        "id": "xRtyNVvDYOR3",
        "outputId": "7c82367e-f35f-4d0a-f9cc-65d1113c6c25"
      },
      "id": "xRtyNVvDYOR3",
      "execution_count": null,
      "outputs": [
        {
          "output_type": "stream",
          "name": "stdout",
          "text": [
            "+----------------------+-------------------+-----------------+-------------+--------------------+--------------------+---------+--------------------+--------------+-----------+-----+-------+-------------+-----------+-----------+----------------+-----------+--------------+---------+\n",
            "|_Rating_Stars_out_of_5|Has_Online_delivery|Has_Table_booking|     Cuisines|            Locality|     Restaurant_Name|     City|Average_Cost_for_two|Rating_in_text|Price_range|Votes|City_Id|Restaurant_Id|Locality_Id|Cuisines_id|Table_booking_Id|Delivery_ID|Rating_in_text|Rating_id|\n",
            "+----------------------+-------------------+-----------------+-------------+--------------------+--------------------+---------+--------------------+--------------+-----------+-----+-------+-------------+-----------+-----------+----------------+-----------+--------------+---------+\n",
            "|                   4.1|                Yes|              Yes| North Indian|BluPetal Hotel, K...|    Sultans of Spice|Bangalore|                1300|     Very Good|          3|  314|      1|          167|         21|         24|               1|          1|     Very Good|       18|\n",
            "|                   4.7|                Yes|              Yes|        Asian|         Indiranagar|The Fatty Bao - A...|Bangalore|                2400|     Excellent|          4|  591|      1|          190|         57|          2|               1|          1|     Excellent|        9|\n",
            "|                   4.8|                 No|               No|      Italian|         Indiranagar|                Toit|Bangalore|                2000|     Excellent|          4|  270|      1|          212|         57|         17|               2|          2|     Excellent|        6|\n",
            "|                   3.9|                 No|              Yes|     European|         Indiranagar| Three Dots & A Dash|Bangalore|                1300|          Good|          3|  365|      1|          210|         57|         11|               1|          2|          Good|       12|\n",
            "|                   4.2|                Yes|               No|Modern Indian|         Indiranagar|    Bombay Brasserie|Bangalore|                1500|     Very Good|          3|  229|      1|           26|         57|         22|               2|          1|     Very Good|       19|\n",
            "|                   4.0|                 No|               No|       Bakery|         Indiranagar|    Glen's Bakehouse|Bangalore|                 800|     Very Good|          2|  336|      1|           75|         57|          3|               2|          2|     Very Good|       16|\n",
            "|                   4.3|                Yes|               No|    Fast Food|         Indiranagar|              Onesta|Bangalore|                 600|     Very Good|          2|  520|      1|          130|         57|         12|               2|          1|     Very Good|       17|\n",
            "|                   4.6|                 No|               No|    Fast Food|            JP Nagar|              Onesta|Bangalore|                 600|     Excellent|          2|  677|      1|          130|         59|         12|               2|          2|     Excellent|        5|\n",
            "|                   4.7|                 No|               No|  Continental|Koramangala 5th B...|  ECHOES Koramangala|Bangalore|                 950|     Excellent|          2|  621|      1|           58|         67|          9|               2|          2|     Excellent|        9|\n",
            "|                   4.7|                Yes|               No|     American|Koramangala 5th B...|            Truffles|Bangalore|                 800|     Excellent|          2|  532|      1|          213|         67|          1|               2|          1|     Excellent|        9|\n",
            "|                   4.1|                 No|              Yes| North Indian|Koramangala 5th B...|     The Black Pearl|Bangalore|                1400|     Very Good|          3| 1070|      1|          182|         67|         24|               1|          2|     Very Good|       18|\n",
            "|                   4.3|                Yes|               No| North Indian|Koramangala 6th B...|          Eat Street|Bangalore|                 400|     Very Good|          1|  488|      1|           59|         68|         24|               2|          1|     Very Good|       17|\n",
            "|                   4.5|                 No|               No|  Continental|Koramangala 7th B...|  Koramangala Social|Bangalore|                1500|     Excellent|          3|  294|      1|           96|         69|          9|               2|          2|     Excellent|        8|\n",
            "|                   4.6|                 No|               No|     European|        Marathahalli|AB's - Absolute B...|Bangalore|                1400|     Excellent|          3|  458|      1|            8|         83|         11|               2|          2|     Excellent|        5|\n",
            "|                   4.4|                 No|              Yes|        Asian|        Marathahalli|            Flechazo|Bangalore|                1200|     Very Good|          3|  223|      1|           68|         83|          2|               1|          2|     Very Good|       15|\n",
            "|                   4.6|                 No|               No|    Fast Food|        New BEL Road|              Onesta|Bangalore|                 600|     Excellent|          2|   29|      1|          130|         88|         12|               2|          2|     Excellent|        5|\n",
            "|                   4.2|                 No|               No|  Continental|      Residency Road|           Communiti|Bangalore|                1200|     Very Good|          3|   72|      1|           51|        105|          9|               2|          2|     Very Good|       19|\n",
            "|                   4.5|                Yes|              Yes|    Fast Food|       Sarjapur Road|         Big Brewsky|Bangalore|                1800|     Excellent|          3|  211|      1|           21|        110|         12|               1|          1|     Excellent|        8|\n",
            "|                   3.9|                 No|               No|  Continental|       Sarjapur Road|                Hoot|Bangalore|                1400|          Good|          3|  118|      1|           83|        110|          9|               2|          2|          Good|       12|\n",
            "|                   4.4|                 No|               No|Modern Indian|             UB City|          Farzi Cafe|Bangalore|                1500|     Very Good|          3|  392|      1|           63|        125|         22|               2|          2|     Very Good|       15|\n",
            "+----------------------+-------------------+-----------------+-------------+--------------------+--------------------+---------+--------------------+--------------+-----------+-----+-------+-------------+-----------+-----------+----------------+-----------+--------------+---------+\n",
            "only showing top 20 rows\n",
            "\n"
          ]
        }
      ]
    },
    {
      "cell_type": "code",
      "source": [
        "joined_Swiggy_DF.columns"
      ],
      "metadata": {
        "colab": {
          "base_uri": "https://localhost:8080/"
        },
        "id": "XPSUDLgGWXKJ",
        "outputId": "05669f40-c8e3-43df-f5f0-fba0eb2b7823"
      },
      "id": "XPSUDLgGWXKJ",
      "execution_count": null,
      "outputs": [
        {
          "output_type": "execute_result",
          "data": {
            "text/plain": [
              "['_Rating_Stars_out_of_5',\n",
              " 'Has_Online_delivery',\n",
              " 'Has_Table_booking',\n",
              " 'Cuisines',\n",
              " 'Locality',\n",
              " 'Restaurant_Name',\n",
              " 'City',\n",
              " 'Average_Cost_for_two',\n",
              " 'Rating_in_text',\n",
              " 'Price_range',\n",
              " 'Votes',\n",
              " 'City_Id',\n",
              " 'Restaurant_Id',\n",
              " 'Locality_Id',\n",
              " 'Cuisines_id',\n",
              " 'Table_booking_Id',\n",
              " 'Delivery_ID',\n",
              " 'Rating_in_text',\n",
              " 'Rating_id']"
            ]
          },
          "metadata": {},
          "execution_count": 139
        }
      ]
    },
    {
      "cell_type": "code",
      "source": [
        "columns_lst=['Price_range','Votes','Average_Cost_for_two','City_Id','Restaurant_Id','Locality_Id','Cuisines_id','Table_booking_Id','Delivery_ID','Rating_id']"
      ],
      "metadata": {
        "id": "ZNYxdiTtWDzM"
      },
      "id": "ZNYxdiTtWDzM",
      "execution_count": null,
      "outputs": []
    },
    {
      "cell_type": "code",
      "source": [
        "Fact_Swiggy_new=joined_Swiggy_DF.select(columns_lst)"
      ],
      "metadata": {
        "id": "yyhQWoofSWdh"
      },
      "id": "yyhQWoofSWdh",
      "execution_count": null,
      "outputs": []
    },
    {
      "cell_type": "code",
      "source": [
        "Fact_Swiggy_new.show()"
      ],
      "metadata": {
        "id": "rLzRj_xoSWaH"
      },
      "id": "rLzRj_xoSWaH",
      "execution_count": null,
      "outputs": []
    },
    {
      "cell_type": "code",
      "source": [
        "wip=Window.orderBy(Fact_Swiggy_new['Average_Cost_for_two'].asc())"
      ],
      "metadata": {
        "id": "UJHitZixSWXf"
      },
      "id": "UJHitZixSWXf",
      "execution_count": null,
      "outputs": []
    },
    {
      "cell_type": "code",
      "source": [
        "Fact_Swiggy=Fact_Swiggy_new.withColumn('Fact_id',row_number().over(wip))"
      ],
      "metadata": {
        "id": "UHDcefFMSVTS"
      },
      "id": "UHDcefFMSVTS",
      "execution_count": null,
      "outputs": []
    },
    {
      "cell_type": "code",
      "source": [
        "Fact_Swiggy.show()"
      ],
      "metadata": {
        "id": "KTP6Wxs-ZpeK"
      },
      "id": "KTP6Wxs-ZpeK",
      "execution_count": null,
      "outputs": []
    },
    {
      "cell_type": "code",
      "source": [
        "Fact_Swiggy.columns"
      ],
      "metadata": {
        "colab": {
          "base_uri": "https://localhost:8080/"
        },
        "id": "o8y2lHKxbbMg",
        "outputId": "700c469c-b4af-424d-b852-c1e14f263f23"
      },
      "id": "o8y2lHKxbbMg",
      "execution_count": null,
      "outputs": [
        {
          "output_type": "execute_result",
          "data": {
            "text/plain": [
              "['Price_range',\n",
              " 'Votes',\n",
              " 'Average_Cost_for_two',\n",
              " 'City_Id',\n",
              " 'Restaurant_Id',\n",
              " 'Locality_Id',\n",
              " 'Cuisines_id',\n",
              " 'Table_booking_Id',\n",
              " 'Delivery_ID',\n",
              " 'Rating_id',\n",
              " 'Fact_id']"
            ]
          },
          "metadata": {},
          "execution_count": 103
        }
      ]
    },
    {
      "cell_type": "code",
      "source": [
        "col_arrangement_lst=['Fact_id','City_Id','Locality_Id','Restaurant_Id','Cuisines_id',\n",
        "                     'Average_Cost_for_two','Rating_id','Delivery_ID','Table_booking_Id',\n",
        "                     'Votes','Price_range',]"
      ],
      "metadata": {
        "id": "cIt_GQ_xZ_EH"
      },
      "id": "cIt_GQ_xZ_EH",
      "execution_count": null,
      "outputs": []
    },
    {
      "cell_type": "code",
      "source": [
        "Fact_Swiggy=Fact_Swiggy.select(col_arrangement_lst)"
      ],
      "metadata": {
        "id": "95iT2Omta314"
      },
      "id": "95iT2Omta314",
      "execution_count": null,
      "outputs": []
    },
    {
      "cell_type": "code",
      "source": [
        "Fact_Swiggy.show()"
      ],
      "metadata": {
        "colab": {
          "base_uri": "https://localhost:8080/"
        },
        "id": "GKD4CKUQboDY",
        "outputId": "9be09b63-decf-43f7-a0d3-37a26c340390"
      },
      "id": "GKD4CKUQboDY",
      "execution_count": null,
      "outputs": [
        {
          "output_type": "stream",
          "name": "stdout",
          "text": [
            "+-------+-------+-----------+-------------+-----------+--------------------+---------+-----------+----------------+-----+-----------+\n",
            "|Fact_id|City_Id|Locality_Id|Restaurant_Id|Cuisines_id|Average_Cost_for_two|Rating_id|Delivery_ID|Table_booking_Id|Votes|Price_range|\n",
            "+-------+-------+-----------+-------------+-----------+--------------------+---------+-----------+----------------+-----+-----------+\n",
            "|      1|      9|         48|           70|         10|                 200|        8|          2|               2|  360|          1|\n",
            "|      2|     13|         13|          121|         27|                 250|       16|          2|               2|  123|          1|\n",
            "|      3|     13|        132|          188|         10|                 250|       13|          2|               2| 1109|          1|\n",
            "|      4|      5|        127|            6|          8|                 300|       13|          2|               2|  147|          3|\n",
            "|      5|      9|          5|           79|         23|                 300|        7|          2|               2|  660|          1|\n",
            "|      6|     11|         43|           15|         27|                 300|        4|          2|               2|  335|          1|\n",
            "|      7|      3|         65|           71|         17|                 350|        5|          2|               2|   24|          1|\n",
            "|      8|      5|        127|            1|          6|                 400|       18|          2|               2|   51|          1|\n",
            "|      9|      1|         68|           59|         24|                 400|       17|          1|               2|  488|          1|\n",
            "|     10|      9|         48|          186|          6|                 400|       18|          2|               2|  365|          2|\n",
            "|     11|      9|         50|           55|         23|                 400|       15|          2|               2|  220|          2|\n",
            "|     12|      9|         50|          185|          6|                 400|       18|          2|               2|  347|          2|\n",
            "|     13|      2|        113|          168|         12|                 450|       16|          1|               2|    9|          1|\n",
            "|     14|      3|         49|          223|          6|                 450|       19|          1|               2|   29|          1|\n",
            "|     15|      9|         48|           82|          6|                 450|       12|          2|               2|  422|          2|\n",
            "|     16|      9|         48|           69|          6|                 450|       17|          2|               2|  487|          2|\n",
            "|     17|     11|         63|          147|          8|                 450|       13|          2|               2|   38|          2|\n",
            "|     18|      6|         78|           45|         10|                 500|        9|          2|               2|  350|          2|\n",
            "|     19|      5|        127|           36|          9|                 500|       19|          2|               2|   88|          2|\n",
            "|     20|      2|        116|           32|         12|                 500|        8|          1|               2|    5|          2|\n",
            "+-------+-------+-----------+-------------+-----------+--------------------+---------+-----------+----------------+-----+-----------+\n",
            "only showing top 20 rows\n",
            "\n"
          ]
        }
      ]
    },
    {
      "cell_type": "code",
      "source": [
        "Fact_Swiggy.write.options(header='True', delimiter=',').csv(r\"C:\\Users\\rohit\\Desktop\\swiggy\\Fact_Table_report\")"
      ],
      "metadata": {
        "id": "LvgcfsGUiB6A"
      },
      "id": "LvgcfsGUiB6A",
      "execution_count": null,
      "outputs": []
    },
    {
      "cell_type": "markdown",
      "id": "61087495",
      "metadata": {
        "id": "61087495"
      },
      "source": [
        "## Count Of Restaurants ,City Wise"
      ]
    },
    {
      "cell_type": "code",
      "source": [
        "joined_city_df=Fact_Swiggy.join(city_dm_Table, ['City_Id'])"
      ],
      "metadata": {
        "id": "_PsssrBKcMbf"
      },
      "id": "_PsssrBKcMbf",
      "execution_count": null,
      "outputs": []
    },
    {
      "cell_type": "code",
      "source": [
        "joined_city_df.show()"
      ],
      "metadata": {
        "id": "oipJ-IChchqp"
      },
      "id": "oipJ-IChchqp",
      "execution_count": null,
      "outputs": []
    },
    {
      "cell_type": "code",
      "execution_count": null,
      "id": "0cff24de",
      "metadata": {
        "scrolled": false,
        "id": "0cff24de",
        "outputId": "cd926e36-0489-491f-963e-618c8a1b2d8f",
        "colab": {
          "base_uri": "https://localhost:8080/"
        }
      },
      "outputs": [
        {
          "output_type": "stream",
          "name": "stdout",
          "text": [
            "+----------+-----+\n",
            "|      City|count|\n",
            "+----------+-----+\n",
            "| Bangalore|   20|\n",
            "|     Patna|   20|\n",
            "|   Chennai|   20|\n",
            "|   Lucknow|   21|\n",
            "|    Mumbai|   20|\n",
            "|       Goa|   20|\n",
            "|   Kolkata|   20|\n",
            "|     Surat|   20|\n",
            "|      Pune|   20|\n",
            "|Chandigarh|   18|\n",
            "| Hyderabad|   18|\n",
            "|  Guwahati|   21|\n",
            "|    Jaipur|   20|\n",
            "+----------+-----+\n",
            "\n"
          ]
        }
      ],
      "source": [
        "restaurant_count=joined_city_df.groupBy(\"City\").count()\n",
        "restaurant_count.show()"
      ]
    },
    {
      "cell_type": "code",
      "execution_count": null,
      "id": "42b336b1",
      "metadata": {
        "id": "42b336b1"
      },
      "outputs": [],
      "source": [
        "restaurant_count.write.options(header='True', delimiter=',').csv(r\"C:\\Users\\rohit\\Desktop\\swiggy\\restaurant_count\")"
      ]
    },
    {
      "cell_type": "markdown",
      "id": "18db85ee",
      "metadata": {
        "id": "18db85ee"
      },
      "source": [
        "## City-wise Top 10 restaurant based on Avg cost for 2"
      ]
    },
    {
      "cell_type": "code",
      "execution_count": null,
      "id": "361ae527",
      "metadata": {
        "id": "361ae527"
      },
      "outputs": [],
      "source": [
        "from pyspark.sql.functions import col"
      ]
    },
    {
      "cell_type": "code",
      "source": [
        "joined_city_df=Fact_Swiggy.join(city_dm_Table, ['City_Id'])\n",
        "joined_restaurant_df=joined_city_df.join(restaurant_Dim_Table, ['Restaurant_Id'])\n",
        "joined_restaurant_df.show()"
      ],
      "metadata": {
        "id": "11wog3ouc79y"
      },
      "id": "11wog3ouc79y",
      "execution_count": null,
      "outputs": []
    },
    {
      "cell_type": "code",
      "execution_count": null,
      "id": "cda2491a",
      "metadata": {
        "id": "cda2491a"
      },
      "outputs": [],
      "source": [
        "window = Window.partitionBy(joined_restaurant_df['City']).orderBy(joined_restaurant_df['Average_Cost_for_two'].desc())"
      ]
    },
    {
      "cell_type": "code",
      "execution_count": null,
      "id": "1857d7c9",
      "metadata": {
        "id": "1857d7c9"
      },
      "outputs": [],
      "source": [
        "City_wise_Top_10_restaurant = joined_restaurant_df.withColumn('row_no',row_number().over(window)).filter(col('row_no')<=10).select('City','Restaurant_Name','Average_Cost_for_two')"
      ]
    },
    {
      "cell_type": "code",
      "execution_count": null,
      "id": "eaa43af3",
      "metadata": {
        "scrolled": true,
        "id": "eaa43af3",
        "outputId": "9eb7d219-908e-4b9a-c7c2-d51d8df87f8f",
        "colab": {
          "base_uri": "https://localhost:8080/"
        }
      },
      "outputs": [
        {
          "output_type": "stream",
          "name": "stdout",
          "text": [
            "+----------+--------------------------------+--------------------+\n",
            "|City      |Restaurant_Name                 |Average_Cost_for_two|\n",
            "+----------+--------------------------------+--------------------+\n",
            "|Bangalore |The Fatty Bao - Asian Gastro Bar|2400                |\n",
            "|Bangalore |Toit                            |2000                |\n",
            "|Bangalore |Big Brewsky                     |1800                |\n",
            "|Bangalore |Bombay Brasserie                |1500                |\n",
            "|Bangalore |Koramangala Social              |1500                |\n",
            "|Bangalore |Farzi Cafe                      |1500                |\n",
            "|Bangalore |The Black Pearl                 |1400                |\n",
            "|Bangalore |AB's - Absolute Barbecues       |1400                |\n",
            "|Bangalore |Hoot                            |1400                |\n",
            "|Bangalore |Sultans of Spice                |1300                |\n",
            "|Chandigarh|Virgin Courtyard                |2200                |\n",
            "|Chandigarh|TGI Friday's                    |1800                |\n",
            "|Chandigarh|Brooklyn Central                |1600                |\n",
            "|Chandigarh|Kylin Experience                |1600                |\n",
            "|Chandigarh|Chili's                         |1400                |\n",
            "|Chandigarh|Mocha Bar                       |1400                |\n",
            "|Chandigarh|Barbeque Nation                 |1300                |\n",
            "|Chandigarh|Pirates of Grill                |1200                |\n",
            "|Chandigarh|Midnight Chef                   |1000                |\n",
            "|Chandigarh|The Night Factory               |850                 |\n",
            "+----------+--------------------------------+--------------------+\n",
            "only showing top 20 rows\n",
            "\n"
          ]
        }
      ],
      "source": [
        "City_wise_Top_10_restaurant.show(truncate=False)"
      ]
    },
    {
      "cell_type": "code",
      "execution_count": null,
      "id": "d44fde02",
      "metadata": {
        "id": "d44fde02"
      },
      "outputs": [],
      "source": [
        "City_wise_Top_10_restaurant.write.options(header='True', delimiter=',').csv(r\"C:\\Users\\rohit\\Desktop\\swiggy\\City_wise_Top_10_restaurant\")"
      ]
    },
    {
      "cell_type": "markdown",
      "id": "c07179ba",
      "metadata": {
        "id": "c07179ba"
      },
      "source": [
        "## Top 10 restaurant based on Avg Votes"
      ]
    },
    {
      "cell_type": "code",
      "source": [
        "joined_city_df=Fact_Swiggy.join(city_dm_Table, ['City_Id'])\n",
        "joined_restaurant_df=joined_city_df.join(restaurant_Dim_Table, ['Restaurant_Id'])\n",
        "joined_restaurant_df.show()"
      ],
      "metadata": {
        "id": "-qnXzt3HeGBW"
      },
      "id": "-qnXzt3HeGBW",
      "execution_count": null,
      "outputs": []
    },
    {
      "cell_type": "code",
      "execution_count": null,
      "id": "149a4fb3",
      "metadata": {
        "id": "149a4fb3"
      },
      "outputs": [],
      "source": [
        "window = Window.partitionBy(joined_restaurant_df['City']).orderBy(joined_restaurant_df['Votes'].desc())"
      ]
    },
    {
      "cell_type": "code",
      "execution_count": null,
      "id": "46ae9730",
      "metadata": {
        "id": "46ae9730"
      },
      "outputs": [],
      "source": [
        "Top_10_restaurant_Avg  =joined_restaurant_df.withColumn(\"row\",row_number().over(window)).filter(col(\"row\") <= 10)"
      ]
    },
    {
      "cell_type": "code",
      "execution_count": null,
      "id": "3f5eb2f2",
      "metadata": {
        "id": "3f5eb2f2"
      },
      "outputs": [],
      "source": [
        "Top_10_restaurant_Avg= Top_10_restaurant_Avg.select(['City','Restaurant_Name','Votes'])"
      ]
    },
    {
      "cell_type": "code",
      "execution_count": null,
      "id": "e4d40ad4",
      "metadata": {
        "id": "e4d40ad4",
        "colab": {
          "base_uri": "https://localhost:8080/"
        },
        "outputId": "2f6983ab-b9b6-4131-c4c7-aa527439467c"
      },
      "outputs": [
        {
          "output_type": "stream",
          "name": "stdout",
          "text": [
            "+----------+--------------------------------+-----+\n",
            "|City      |Restaurant_Name                 |Votes|\n",
            "+----------+--------------------------------+-----+\n",
            "|Bangalore |The Black Pearl                 |1070 |\n",
            "|Bangalore |Onesta                          |677  |\n",
            "|Bangalore |ECHOES Koramangala              |621  |\n",
            "|Bangalore |The Fatty Bao - Asian Gastro Bar|591  |\n",
            "|Bangalore |Truffles                        |532  |\n",
            "|Bangalore |Onesta                          |520  |\n",
            "|Bangalore |Eat Street                      |488  |\n",
            "|Bangalore |AB's - Absolute Barbecues       |458  |\n",
            "|Bangalore |Farzi Cafe                      |392  |\n",
            "|Bangalore |Three Dots & A Dash             |365  |\n",
            "|Chandigarh|Brooklyn Central                |618  |\n",
            "|Chandigarh|The Night Factory               |535  |\n",
            "|Chandigarh|Karim's                         |29   |\n",
            "|Chandigarh|Virgin Courtyard                |17   |\n",
            "|Chandigarh|OvenFresh                       |12   |\n",
            "|Chandigarh|Mocha Bar                       |11   |\n",
            "|Chandigarh|Pirates of Grill                |11   |\n",
            "|Chandigarh|Barbeque Nation                 |11   |\n",
            "|Chandigarh|TGI Friday's                    |10   |\n",
            "|Chandigarh|Uncle Jack's                    |10   |\n",
            "+----------+--------------------------------+-----+\n",
            "only showing top 20 rows\n",
            "\n"
          ]
        }
      ],
      "source": [
        "Top_10_restaurant_Avg.show(truncate=False)"
      ]
    },
    {
      "cell_type": "code",
      "execution_count": null,
      "id": "8a0c6013",
      "metadata": {
        "id": "8a0c6013"
      },
      "outputs": [],
      "source": [
        "Top_10_restaurant_Avg.write.options(header='True', delimiter=',').csv(r\"C:\\Users\\rohit\\Desktop\\swiggy\\Top_10_restaurant\")"
      ]
    },
    {
      "cell_type": "markdown",
      "id": "5c383d0f",
      "metadata": {
        "id": "5c383d0f"
      },
      "source": [
        "## Top 10 restaurant based on Rating City wise"
      ]
    },
    {
      "cell_type": "code",
      "source": [
        "joined_city_df=Fact_Swiggy.join(city_dm_Table, ['City_Id'])\n",
        "joined_restaurant_df=joined_city_df.join(restaurant_Dim_Table, ['Restaurant_Id'])\n",
        "joined_rating_df=joined_restaurant_df.join(Rating_dm_table, ['Rating_id'])\n",
        "joined_rating_df.show()"
      ],
      "metadata": {
        "id": "9Mtm-IzxemPA"
      },
      "id": "9Mtm-IzxemPA",
      "execution_count": null,
      "outputs": []
    },
    {
      "cell_type": "code",
      "execution_count": null,
      "id": "9eb1caaf",
      "metadata": {
        "id": "9eb1caaf"
      },
      "outputs": [],
      "source": [
        "window = Window.partitionBy(joined_rating_df['City']).orderBy(joined_rating_df['_Rating_Stars_out_of_5'].desc())"
      ]
    },
    {
      "cell_type": "code",
      "execution_count": null,
      "id": "d84b0864",
      "metadata": {
        "id": "d84b0864"
      },
      "outputs": [],
      "source": [
        "Top_10_restaurant_Rating =joined_rating_df.withColumn(\"row\",row_number().over(window)).filter(col(\"row\") <= 10).select(['City','Restaurant_Name','_Rating_Stars_out_of_5'])"
      ]
    },
    {
      "cell_type": "code",
      "execution_count": null,
      "id": "7bcec6bc",
      "metadata": {
        "id": "7bcec6bc",
        "outputId": "f1b86983-5cc2-4d55-face-9453b3583b06",
        "colab": {
          "base_uri": "https://localhost:8080/"
        }
      },
      "outputs": [
        {
          "output_type": "stream",
          "name": "stdout",
          "text": [
            "+----------+--------------------------------+----------------------+\n",
            "|City      |Restaurant_Name                 |_Rating_Stars_out_of_5|\n",
            "+----------+--------------------------------+----------------------+\n",
            "|Bangalore |Toit                            |4.8                   |\n",
            "|Bangalore |The Fatty Bao - Asian Gastro Bar|4.7                   |\n",
            "|Bangalore |ECHOES Koramangala              |4.7                   |\n",
            "|Bangalore |Truffles                        |4.7                   |\n",
            "|Bangalore |Onesta                          |4.6                   |\n",
            "|Bangalore |AB's - Absolute Barbecues       |4.6                   |\n",
            "|Bangalore |Onesta                          |4.6                   |\n",
            "|Bangalore |Koramangala Social              |4.5                   |\n",
            "|Bangalore |Big Brewsky                     |4.5                   |\n",
            "|Bangalore |Flechazo                        |4.4                   |\n",
            "|Chandigarh|Barbeque Nation                 |4.5                   |\n",
            "|Chandigarh|Burgrill                        |4.5                   |\n",
            "|Chandigarh|Virgin Courtyard                |4.4                   |\n",
            "|Chandigarh|Chili's                         |4.3                   |\n",
            "|Chandigarh|TGI Friday's                    |4.3                   |\n",
            "|Chandigarh|Brooklyn Central                |4.2                   |\n",
            "|Chandigarh|Taco Bell                       |4.2                   |\n",
            "|Chandigarh|Kylin Experience                |4.1                   |\n",
            "|Chandigarh|Nik Baker's                     |4.1                   |\n",
            "|Chandigarh|OvenFresh                       |4.1                   |\n",
            "+----------+--------------------------------+----------------------+\n",
            "only showing top 20 rows\n",
            "\n"
          ]
        }
      ],
      "source": [
        "Top_10_restaurant_Rating.show(truncate=False)"
      ]
    },
    {
      "cell_type": "code",
      "execution_count": null,
      "id": "cb5b39d0",
      "metadata": {
        "id": "cb5b39d0"
      },
      "outputs": [],
      "source": [
        "Top_10_restaurant_Rating.write.options(header='True', delimiter=',').csv(r\"C:\\Users\\rohit\\Desktop\\swiggy\\Top_10_restaurant_Rating\")"
      ]
    },
    {
      "cell_type": "markdown",
      "id": "d3fa31a5",
      "metadata": {
        "id": "d3fa31a5"
      },
      "source": [
        "## Rating based on delivery availability City wise"
      ]
    },
    {
      "cell_type": "code",
      "source": [
        "Delivery_Available_dm_table=Delivery_Available_col.withColumn('Delivery_ID',row_number().over(wind))"
      ],
      "metadata": {
        "id": "FK6x2G-Sfpen"
      },
      "id": "FK6x2G-Sfpen",
      "execution_count": null,
      "outputs": []
    },
    {
      "cell_type": "code",
      "source": [
        "joined_city_df=Fact_Swiggy.join(city_dm_Table, ['City_Id'])\n",
        "joined_rating_df=joined_city_df.join(Rating_dm_table, ['Rating_id'])\n",
        "joined_delivery_df=joined_rating_df.join(Delivery_Available_dm_table, ['Delivery_ID'])\n",
        "joined_delivery_df.show()"
      ],
      "metadata": {
        "id": "gYNvBTYZfKFo"
      },
      "id": "gYNvBTYZfKFo",
      "execution_count": null,
      "outputs": []
    },
    {
      "cell_type": "code",
      "execution_count": null,
      "id": "051b719f",
      "metadata": {
        "id": "051b719f"
      },
      "outputs": [],
      "source": [
        "column_list = [\"City\",\"Has_Online_delivery\"]\n",
        "win_spec = Window.partitionBy(*column_list).orderBy(col(\"_Rating_Stars_out_of_5\").desc())"
      ]
    },
    {
      "cell_type": "code",
      "execution_count": null,
      "id": "a501a263",
      "metadata": {
        "id": "a501a263"
      },
      "outputs": [],
      "source": [
        "availability_City_wise=joined_delivery_df.withColumn(\"row\",row_number().over(win_spec)).filter(col(\"row\") <= 1).select(['City','Has_Online_delivery','_Rating_Stars_out_of_5'])"
      ]
    },
    {
      "cell_type": "code",
      "execution_count": null,
      "id": "684064d9",
      "metadata": {
        "scrolled": true,
        "id": "684064d9",
        "outputId": "a580c300-2c0b-4a53-9ca8-68cfc241ab2d",
        "colab": {
          "base_uri": "https://localhost:8080/"
        }
      },
      "outputs": [
        {
          "output_type": "stream",
          "name": "stdout",
          "text": [
            "+----------+-------------------+----------------------+\n",
            "|      City|Has_Online_delivery|_Rating_Stars_out_of_5|\n",
            "+----------+-------------------+----------------------+\n",
            "| Bangalore|                 No|                   4.8|\n",
            "| Bangalore|                Yes|                   4.7|\n",
            "|Chandigarh|                 No|                   4.5|\n",
            "|Chandigarh|                Yes|                   4.5|\n",
            "|   Chennai|                 No|                   4.9|\n",
            "|   Chennai|                Yes|                   4.8|\n",
            "|       Goa|                 No|                   4.8|\n",
            "|  Guwahati|                 No|                   4.9|\n",
            "| Hyderabad|                 No|                   4.9|\n",
            "| Hyderabad|                Yes|                   4.7|\n",
            "|    Jaipur|                 No|                   4.5|\n",
            "|    Jaipur|                Yes|                   4.9|\n",
            "|   Kolkata|                 No|                   4.9|\n",
            "|   Kolkata|                Yes|                   4.6|\n",
            "|   Lucknow|                 No|                   4.9|\n",
            "|    Mumbai|                 No|                   4.9|\n",
            "|    Mumbai|                Yes|                   4.7|\n",
            "|     Patna|                 No|                   3.7|\n",
            "|      Pune|                 No|                   4.8|\n",
            "|      Pune|                Yes|                   4.5|\n",
            "+----------+-------------------+----------------------+\n",
            "only showing top 20 rows\n",
            "\n"
          ]
        }
      ],
      "source": [
        "availability_City_wise.show()"
      ]
    },
    {
      "cell_type": "code",
      "execution_count": null,
      "id": "a4ea42b5",
      "metadata": {
        "id": "a4ea42b5"
      },
      "outputs": [],
      "source": [
        "availability_City_wise.write.options(header='True', delimiter=',').csv(r\"C:\\Users\\rohit\\Desktop\\swiggy\\availability_City_wise\")"
      ]
    },
    {
      "cell_type": "markdown",
      "id": "690a8061",
      "metadata": {
        "id": "690a8061"
      },
      "source": [
        "## \tAvg cost for 2 based on cuisine city wise"
      ]
    },
    {
      "cell_type": "code",
      "source": [
        "Cuisines_dm_table=Cousine_col.withColumn('Cuisines_id',row_number().over(wind))"
      ],
      "metadata": {
        "id": "-PKmdnHXgo1z"
      },
      "id": "-PKmdnHXgo1z",
      "execution_count": null,
      "outputs": []
    },
    {
      "cell_type": "code",
      "source": [
        "joined_city_df=Fact_Swiggy.join(city_dm_Table, ['City_Id'])\n",
        "joined_cuisines_df=joined_city_df.join(Cuisines_dm_table, ['Cuisines_id'])\n",
        "joined_cuisines_df.show()"
      ],
      "metadata": {
        "id": "MxtEe0N9gbbi"
      },
      "id": "MxtEe0N9gbbi",
      "execution_count": null,
      "outputs": []
    },
    {
      "cell_type": "code",
      "execution_count": null,
      "id": "8275fdcb",
      "metadata": {
        "id": "8275fdcb"
      },
      "outputs": [],
      "source": [
        "window = Window.partitionBy(joined_cuisines_df['City']).orderBy(joined_cuisines_df['Average_Cost_for_two'].desc())"
      ]
    },
    {
      "cell_type": "code",
      "execution_count": null,
      "id": "3e616a68",
      "metadata": {
        "id": "3e616a68",
        "outputId": "f1e3e81a-922f-454e-d2c9-aed1e79aefba",
        "colab": {
          "base_uri": "https://localhost:8080/"
        }
      },
      "outputs": [
        {
          "output_type": "stream",
          "name": "stdout",
          "text": [
            "+----------+-------------+--------------------+\n",
            "|      City|     Cuisines|Average_Cost_for_two|\n",
            "+----------+-------------+--------------------+\n",
            "| Bangalore| North Indian|                1300|\n",
            "| Bangalore|        Asian|                2400|\n",
            "| Bangalore|      Italian|                2000|\n",
            "| Bangalore|     European|                1300|\n",
            "| Bangalore|Modern Indian|                1500|\n",
            "| Bangalore|       Bakery|                 800|\n",
            "| Bangalore|    Fast Food|                 600|\n",
            "| Bangalore|    Fast Food|                 600|\n",
            "| Bangalore|  Continental|                 950|\n",
            "| Bangalore|     American|                 800|\n",
            "| Bangalore| North Indian|                1400|\n",
            "| Bangalore| North Indian|                 400|\n",
            "| Bangalore|  Continental|                1500|\n",
            "| Bangalore|     European|                1400|\n",
            "| Bangalore|        Asian|                1200|\n",
            "| Bangalore|    Fast Food|                 600|\n",
            "| Bangalore|  Continental|                1200|\n",
            "| Bangalore|    Fast Food|                1800|\n",
            "| Bangalore|  Continental|                1400|\n",
            "| Bangalore|Modern Indian|                1500|\n",
            "|Chandigarh| North Indian|                 850|\n",
            "|Chandigarh|     American|                1600|\n",
            "|Chandigarh|      Mexican|                1400|\n",
            "|Chandigarh|     Japanese|                1600|\n",
            "|Chandigarh|  Continental|                1400|\n",
            "|Chandigarh| North Indian|                1200|\n",
            "|Chandigarh| North Indian|                1300|\n",
            "|Chandigarh|     American|                1800|\n",
            "|Chandigarh| North Indian|                 700|\n",
            "|Chandigarh| North Indian|                1000|\n",
            "|Chandigarh|       Bakery|                 650|\n",
            "|Chandigarh|         Cafe|                 650|\n",
            "|Chandigarh|    Fast Food|                 450|\n",
            "|Chandigarh|      Mexican|                 600|\n",
            "|Chandigarh|      Mughlai|                 800|\n",
            "|Chandigarh|      Italian|                2200|\n",
            "|Chandigarh|    Fast Food|                 500|\n",
            "|Chandigarh|     Desserts|                 600|\n",
            "|   Chennai|     European|                 800|\n",
            "|   Chennai| North Indian|                 800|\n",
            "+----------+-------------+--------------------+\n",
            "only showing top 40 rows\n",
            "\n"
          ]
        }
      ],
      "source": [
        "cuisine_city_wise =joined_cuisines_df.withColumn(\"row\",row_number().over(window)).select(['City','Cuisines','Average_Cost_for_two',])\n",
        "cuisine_city_wise.show(40)"
      ]
    },
    {
      "cell_type": "code",
      "execution_count": null,
      "id": "f74e4581",
      "metadata": {
        "id": "f74e4581"
      },
      "outputs": [],
      "source": [
        "cuisine_city_wise.write.options(header='True', delimiter=',').csv(r\"C:\\Users\\rohit\\Desktop\\swiggy\\cuisine_city_wise\")"
      ]
    }
  ],
  "metadata": {
    "kernelspec": {
      "display_name": "Python 3 (ipykernel)",
      "language": "python",
      "name": "python3"
    },
    "language_info": {
      "codemirror_mode": {
        "name": "ipython",
        "version": 3
      },
      "file_extension": ".py",
      "mimetype": "text/x-python",
      "name": "python",
      "nbconvert_exporter": "python",
      "pygments_lexer": "ipython3",
      "version": "3.9.7"
    },
    "colab": {
      "name": "PySpark_Mini_Project-Swiggy_Analysis_Final.ipynb",
      "provenance": [],
      "collapsed_sections": [
        "ISZpvDCRhOZ3",
        "1jq29gsIgtCE",
        "EdDPelqWg1J7",
        "EJm8rFs_W-pE",
        "w7xyZkYAhAov",
        "592a4488",
        "fde6dfaf",
        "78efdd3a",
        "2cd4da0d",
        "ec35abfa",
        "5fe66d0c",
        "2b4c7d22",
        "369b69c8",
        "Ji-GrChkSW0Z",
        "61087495",
        "18db85ee",
        "c07179ba",
        "5c383d0f",
        "d3fa31a5",
        "690a8061"
      ]
    }
  },
  "nbformat": 4,
  "nbformat_minor": 5
}